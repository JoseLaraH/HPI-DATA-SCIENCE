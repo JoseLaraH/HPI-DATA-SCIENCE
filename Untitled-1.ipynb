{
 "cells": [
  {
   "cell_type": "markdown",
   "metadata": {},
   "source": [
    "Archivo movies_dataset.csv  \n",
    "\n",
    "Transformaciones: Para este MVP no necesitas perfección, ¡necesitas rapidez! ⏩ Vas a hacer estas, y solo estas, transformaciones a los datos:\n",
    "\n",
    "1. Algunos campos, como belongs_to_collection, production_companies y otros (ver diccionario de datos) están anidados, esto es o bien tienen un diccionario o una lista como valores en cada fila,      ¡deberán desanidarlos para poder y unirlos al dataset de nuevo hacer alguna de las consultas de la API! O bien buscar la manera de acceder a esos datos sin desanidarlos.\n",
    "\n",
    "2. Los valores nulos de los campos revenue, budget deben ser rellenados por el número 0.\n",
    "\n",
    "3. Los valores nulos del campo release date deben eliminarse.\n",
    "\n",
    "4. De haber fechas, deberán tener el formato AAAA-mm-dd, además deberán crear la columna release_year donde extraerán el año de la fecha de estreno.\n",
    "\n",
    "5. Crear la columna con el retorno de inversión, llamada return con los campos revenue y budget, dividiendo estas dos últimas revenue / budget, cuando no hay datos disponibles para calcularlo, deberá tomar el valor 0.\n",
    "\n",
    "6. Eliminar las columnas que no serán utilizadas, video,imdb_id,adult,original_title,poster_path y homepage."
   ]
  },
  {
   "cell_type": "code",
   "execution_count": 1,
   "metadata": {},
   "outputs": [],
   "source": [
    "import pandas as pd\n",
    "import ast\n",
    "import numpy as np"
   ]
  },
  {
   "cell_type": "code",
   "execution_count": 2,
   "metadata": {},
   "outputs": [
    {
     "name": "stderr",
     "output_type": "stream",
     "text": [
      "C:\\Users\\Jose Lara\\AppData\\Local\\Temp\\ipykernel_9448\\3493981199.py:3: DtypeWarning: Columns (10) have mixed types. Specify dtype option on import or set low_memory=False.\n",
      "  movies_df = pd.read_csv('movies_dataset.csv')\n"
     ]
    }
   ],
   "source": [
    "# Cargar el archivo CSV proporcionado\n",
    "\n",
    "movies_df = pd.read_csv('movies_dataset.csv')"
   ]
  },
  {
   "cell_type": "code",
   "execution_count": 3,
   "metadata": {},
   "outputs": [
    {
     "data": {
      "text/html": [
       "<div>\n",
       "<style scoped>\n",
       "    .dataframe tbody tr th:only-of-type {\n",
       "        vertical-align: middle;\n",
       "    }\n",
       "\n",
       "    .dataframe tbody tr th {\n",
       "        vertical-align: top;\n",
       "    }\n",
       "\n",
       "    .dataframe thead th {\n",
       "        text-align: right;\n",
       "    }\n",
       "</style>\n",
       "<table border=\"1\" class=\"dataframe\">\n",
       "  <thead>\n",
       "    <tr style=\"text-align: right;\">\n",
       "      <th></th>\n",
       "      <th>adult</th>\n",
       "      <th>belongs_to_collection</th>\n",
       "      <th>budget</th>\n",
       "      <th>genres</th>\n",
       "      <th>homepage</th>\n",
       "      <th>id</th>\n",
       "      <th>imdb_id</th>\n",
       "      <th>original_language</th>\n",
       "      <th>original_title</th>\n",
       "      <th>overview</th>\n",
       "      <th>...</th>\n",
       "      <th>release_date</th>\n",
       "      <th>revenue</th>\n",
       "      <th>runtime</th>\n",
       "      <th>spoken_languages</th>\n",
       "      <th>status</th>\n",
       "      <th>tagline</th>\n",
       "      <th>title</th>\n",
       "      <th>video</th>\n",
       "      <th>vote_average</th>\n",
       "      <th>vote_count</th>\n",
       "    </tr>\n",
       "  </thead>\n",
       "  <tbody>\n",
       "    <tr>\n",
       "      <th>0</th>\n",
       "      <td>False</td>\n",
       "      <td>{'id': 10194, 'name': 'Toy Story Collection', ...</td>\n",
       "      <td>30000000</td>\n",
       "      <td>[{'id': 16, 'name': 'Animation'}, {'id': 35, '...</td>\n",
       "      <td>http://toystory.disney.com/toy-story</td>\n",
       "      <td>862</td>\n",
       "      <td>tt0114709</td>\n",
       "      <td>en</td>\n",
       "      <td>Toy Story</td>\n",
       "      <td>Led by Woody, Andy's toys live happily in his ...</td>\n",
       "      <td>...</td>\n",
       "      <td>1995-10-30</td>\n",
       "      <td>373554033.0</td>\n",
       "      <td>81.0</td>\n",
       "      <td>[{'iso_639_1': 'en', 'name': 'English'}]</td>\n",
       "      <td>Released</td>\n",
       "      <td>NaN</td>\n",
       "      <td>Toy Story</td>\n",
       "      <td>False</td>\n",
       "      <td>7.7</td>\n",
       "      <td>5415.0</td>\n",
       "    </tr>\n",
       "    <tr>\n",
       "      <th>1</th>\n",
       "      <td>False</td>\n",
       "      <td>NaN</td>\n",
       "      <td>65000000</td>\n",
       "      <td>[{'id': 12, 'name': 'Adventure'}, {'id': 14, '...</td>\n",
       "      <td>NaN</td>\n",
       "      <td>8844</td>\n",
       "      <td>tt0113497</td>\n",
       "      <td>en</td>\n",
       "      <td>Jumanji</td>\n",
       "      <td>When siblings Judy and Peter discover an encha...</td>\n",
       "      <td>...</td>\n",
       "      <td>1995-12-15</td>\n",
       "      <td>262797249.0</td>\n",
       "      <td>104.0</td>\n",
       "      <td>[{'iso_639_1': 'en', 'name': 'English'}, {'iso...</td>\n",
       "      <td>Released</td>\n",
       "      <td>Roll the dice and unleash the excitement!</td>\n",
       "      <td>Jumanji</td>\n",
       "      <td>False</td>\n",
       "      <td>6.9</td>\n",
       "      <td>2413.0</td>\n",
       "    </tr>\n",
       "    <tr>\n",
       "      <th>2</th>\n",
       "      <td>False</td>\n",
       "      <td>{'id': 119050, 'name': 'Grumpy Old Men Collect...</td>\n",
       "      <td>0</td>\n",
       "      <td>[{'id': 10749, 'name': 'Romance'}, {'id': 35, ...</td>\n",
       "      <td>NaN</td>\n",
       "      <td>15602</td>\n",
       "      <td>tt0113228</td>\n",
       "      <td>en</td>\n",
       "      <td>Grumpier Old Men</td>\n",
       "      <td>A family wedding reignites the ancient feud be...</td>\n",
       "      <td>...</td>\n",
       "      <td>1995-12-22</td>\n",
       "      <td>0.0</td>\n",
       "      <td>101.0</td>\n",
       "      <td>[{'iso_639_1': 'en', 'name': 'English'}]</td>\n",
       "      <td>Released</td>\n",
       "      <td>Still Yelling. Still Fighting. Still Ready for...</td>\n",
       "      <td>Grumpier Old Men</td>\n",
       "      <td>False</td>\n",
       "      <td>6.5</td>\n",
       "      <td>92.0</td>\n",
       "    </tr>\n",
       "    <tr>\n",
       "      <th>3</th>\n",
       "      <td>False</td>\n",
       "      <td>NaN</td>\n",
       "      <td>16000000</td>\n",
       "      <td>[{'id': 35, 'name': 'Comedy'}, {'id': 18, 'nam...</td>\n",
       "      <td>NaN</td>\n",
       "      <td>31357</td>\n",
       "      <td>tt0114885</td>\n",
       "      <td>en</td>\n",
       "      <td>Waiting to Exhale</td>\n",
       "      <td>Cheated on, mistreated and stepped on, the wom...</td>\n",
       "      <td>...</td>\n",
       "      <td>1995-12-22</td>\n",
       "      <td>81452156.0</td>\n",
       "      <td>127.0</td>\n",
       "      <td>[{'iso_639_1': 'en', 'name': 'English'}]</td>\n",
       "      <td>Released</td>\n",
       "      <td>Friends are the people who let you be yourself...</td>\n",
       "      <td>Waiting to Exhale</td>\n",
       "      <td>False</td>\n",
       "      <td>6.1</td>\n",
       "      <td>34.0</td>\n",
       "    </tr>\n",
       "    <tr>\n",
       "      <th>4</th>\n",
       "      <td>False</td>\n",
       "      <td>{'id': 96871, 'name': 'Father of the Bride Col...</td>\n",
       "      <td>0</td>\n",
       "      <td>[{'id': 35, 'name': 'Comedy'}]</td>\n",
       "      <td>NaN</td>\n",
       "      <td>11862</td>\n",
       "      <td>tt0113041</td>\n",
       "      <td>en</td>\n",
       "      <td>Father of the Bride Part II</td>\n",
       "      <td>Just when George Banks has recovered from his ...</td>\n",
       "      <td>...</td>\n",
       "      <td>1995-02-10</td>\n",
       "      <td>76578911.0</td>\n",
       "      <td>106.0</td>\n",
       "      <td>[{'iso_639_1': 'en', 'name': 'English'}]</td>\n",
       "      <td>Released</td>\n",
       "      <td>Just When His World Is Back To Normal... He's ...</td>\n",
       "      <td>Father of the Bride Part II</td>\n",
       "      <td>False</td>\n",
       "      <td>5.7</td>\n",
       "      <td>173.0</td>\n",
       "    </tr>\n",
       "  </tbody>\n",
       "</table>\n",
       "<p>5 rows × 24 columns</p>\n",
       "</div>"
      ],
      "text/plain": [
       "   adult                              belongs_to_collection    budget  \\\n",
       "0  False  {'id': 10194, 'name': 'Toy Story Collection', ...  30000000   \n",
       "1  False                                                NaN  65000000   \n",
       "2  False  {'id': 119050, 'name': 'Grumpy Old Men Collect...         0   \n",
       "3  False                                                NaN  16000000   \n",
       "4  False  {'id': 96871, 'name': 'Father of the Bride Col...         0   \n",
       "\n",
       "                                              genres  \\\n",
       "0  [{'id': 16, 'name': 'Animation'}, {'id': 35, '...   \n",
       "1  [{'id': 12, 'name': 'Adventure'}, {'id': 14, '...   \n",
       "2  [{'id': 10749, 'name': 'Romance'}, {'id': 35, ...   \n",
       "3  [{'id': 35, 'name': 'Comedy'}, {'id': 18, 'nam...   \n",
       "4                     [{'id': 35, 'name': 'Comedy'}]   \n",
       "\n",
       "                               homepage     id    imdb_id original_language  \\\n",
       "0  http://toystory.disney.com/toy-story    862  tt0114709                en   \n",
       "1                                   NaN   8844  tt0113497                en   \n",
       "2                                   NaN  15602  tt0113228                en   \n",
       "3                                   NaN  31357  tt0114885                en   \n",
       "4                                   NaN  11862  tt0113041                en   \n",
       "\n",
       "                original_title  \\\n",
       "0                    Toy Story   \n",
       "1                      Jumanji   \n",
       "2             Grumpier Old Men   \n",
       "3            Waiting to Exhale   \n",
       "4  Father of the Bride Part II   \n",
       "\n",
       "                                            overview  ... release_date  \\\n",
       "0  Led by Woody, Andy's toys live happily in his ...  ...   1995-10-30   \n",
       "1  When siblings Judy and Peter discover an encha...  ...   1995-12-15   \n",
       "2  A family wedding reignites the ancient feud be...  ...   1995-12-22   \n",
       "3  Cheated on, mistreated and stepped on, the wom...  ...   1995-12-22   \n",
       "4  Just when George Banks has recovered from his ...  ...   1995-02-10   \n",
       "\n",
       "       revenue runtime                                   spoken_languages  \\\n",
       "0  373554033.0    81.0           [{'iso_639_1': 'en', 'name': 'English'}]   \n",
       "1  262797249.0   104.0  [{'iso_639_1': 'en', 'name': 'English'}, {'iso...   \n",
       "2          0.0   101.0           [{'iso_639_1': 'en', 'name': 'English'}]   \n",
       "3   81452156.0   127.0           [{'iso_639_1': 'en', 'name': 'English'}]   \n",
       "4   76578911.0   106.0           [{'iso_639_1': 'en', 'name': 'English'}]   \n",
       "\n",
       "     status                                            tagline  \\\n",
       "0  Released                                                NaN   \n",
       "1  Released          Roll the dice and unleash the excitement!   \n",
       "2  Released  Still Yelling. Still Fighting. Still Ready for...   \n",
       "3  Released  Friends are the people who let you be yourself...   \n",
       "4  Released  Just When His World Is Back To Normal... He's ...   \n",
       "\n",
       "                         title  video vote_average vote_count  \n",
       "0                    Toy Story  False          7.7     5415.0  \n",
       "1                      Jumanji  False          6.9     2413.0  \n",
       "2             Grumpier Old Men  False          6.5       92.0  \n",
       "3            Waiting to Exhale  False          6.1       34.0  \n",
       "4  Father of the Bride Part II  False          5.7      173.0  \n",
       "\n",
       "[5 rows x 24 columns]"
      ]
     },
     "execution_count": 3,
     "metadata": {},
     "output_type": "execute_result"
    }
   ],
   "source": [
    "# Mostrar las primeras filas para entender la estructura del dataframe\n",
    "movies_df.head()"
   ]
  },
  {
   "cell_type": "markdown",
   "metadata": {},
   "source": [
    "Empezare con la segunda transformación requerida.  \n",
    "2. Los valores nulos de los campos revenue, budget deben ser rellenados por el número 0."
   ]
  },
  {
   "cell_type": "code",
   "execution_count": 4,
   "metadata": {},
   "outputs": [],
   "source": [
    "# Limpiar los valores nulos según la recomendación dada\n",
    "\n",
    "# Rellenar valores nulos en los campos 'revenue' y 'budget' con 0\n",
    "movies_df['revenue'] = movies_df['revenue'].fillna(0)\n",
    "movies_df['budget'] = movies_df['budget'].fillna(0)\n"
   ]
  },
  {
   "cell_type": "markdown",
   "metadata": {},
   "source": [
    "Ahora seguiré con la tercera transformación requerida.  \n",
    "3. Los valores nulos del campo release date deben eliminarse."
   ]
  },
  {
   "cell_type": "code",
   "execution_count": 5,
   "metadata": {},
   "outputs": [],
   "source": [
    "# Eliminar filas donde 'release_date' es nulo\n",
    "movies_df.dropna(subset=['release_date'], inplace=True)\n",
    "# También se pudo usar la siguiente función\n",
    "# movies_df = movies_df[movies_df['release_date'].notna()]\n"
   ]
  },
  {
   "cell_type": "markdown",
   "metadata": {},
   "source": [
    "Ahora verificaré que las transformaciones anteriores cumplieron su objetivo."
   ]
  },
  {
   "cell_type": "code",
   "execution_count": 6,
   "metadata": {},
   "outputs": [
    {
     "data": {
      "text/plain": [
       "adult                        0\n",
       "belongs_to_collection    40888\n",
       "budget                       0\n",
       "genres                       0\n",
       "homepage                 37610\n",
       "id                           0\n",
       "imdb_id                     14\n",
       "original_language           11\n",
       "original_title               0\n",
       "overview                   941\n",
       "popularity                   2\n",
       "poster_path                339\n",
       "production_companies         0\n",
       "production_countries         0\n",
       "release_date                 0\n",
       "revenue                      0\n",
       "runtime                    249\n",
       "spoken_languages             3\n",
       "status                      83\n",
       "tagline                  24981\n",
       "title                        3\n",
       "video                        3\n",
       "vote_average                 3\n",
       "vote_count                   3\n",
       "dtype: int64"
      ]
     },
     "execution_count": 6,
     "metadata": {},
     "output_type": "execute_result"
    }
   ],
   "source": [
    "# Mostrar la cantidad de valores nulos restantes por columna\n",
    "null_values = movies_df.isnull().sum()\n",
    "\n",
    "null_values"
   ]
  },
  {
   "cell_type": "markdown",
   "metadata": {},
   "source": [
    "Una vez confirmados lo resultados de las transformaciones anteriores, procederé con la siguiente.  \n",
    "4. De haber fechas, deberán tener el formato AAAA-mm-dd, además deberán crear la columna release_year donde extraerán el año de la fecha de estreno."
   ]
  },
  {
   "cell_type": "code",
   "execution_count": 7,
   "metadata": {},
   "outputs": [],
   "source": [
    "# Convertir la columna 'release_date' al formato AAAA-mm-dd\n",
    "movies_df['release_date'] = pd.to_datetime(movies_df['release_date'], errors='coerce')"
   ]
  },
  {
   "cell_type": "code",
   "execution_count": 8,
   "metadata": {},
   "outputs": [],
   "source": [
    "# Crear la columna 'release_year' extrayendo el año de 'release_date'\n",
    "movies_df['release_year'] = movies_df['release_date'].dt.year"
   ]
  },
  {
   "cell_type": "code",
   "execution_count": 9,
   "metadata": {},
   "outputs": [
    {
     "data": {
      "text/html": [
       "<div>\n",
       "<style scoped>\n",
       "    .dataframe tbody tr th:only-of-type {\n",
       "        vertical-align: middle;\n",
       "    }\n",
       "\n",
       "    .dataframe tbody tr th {\n",
       "        vertical-align: top;\n",
       "    }\n",
       "\n",
       "    .dataframe thead th {\n",
       "        text-align: right;\n",
       "    }\n",
       "</style>\n",
       "<table border=\"1\" class=\"dataframe\">\n",
       "  <thead>\n",
       "    <tr style=\"text-align: right;\">\n",
       "      <th></th>\n",
       "      <th>release_date</th>\n",
       "      <th>release_year</th>\n",
       "    </tr>\n",
       "  </thead>\n",
       "  <tbody>\n",
       "    <tr>\n",
       "      <th>0</th>\n",
       "      <td>1995-10-30</td>\n",
       "      <td>1995.0</td>\n",
       "    </tr>\n",
       "    <tr>\n",
       "      <th>1</th>\n",
       "      <td>1995-12-15</td>\n",
       "      <td>1995.0</td>\n",
       "    </tr>\n",
       "    <tr>\n",
       "      <th>2</th>\n",
       "      <td>1995-12-22</td>\n",
       "      <td>1995.0</td>\n",
       "    </tr>\n",
       "    <tr>\n",
       "      <th>3</th>\n",
       "      <td>1995-12-22</td>\n",
       "      <td>1995.0</td>\n",
       "    </tr>\n",
       "    <tr>\n",
       "      <th>4</th>\n",
       "      <td>1995-02-10</td>\n",
       "      <td>1995.0</td>\n",
       "    </tr>\n",
       "  </tbody>\n",
       "</table>\n",
       "</div>"
      ],
      "text/plain": [
       "  release_date  release_year\n",
       "0   1995-10-30        1995.0\n",
       "1   1995-12-15        1995.0\n",
       "2   1995-12-22        1995.0\n",
       "3   1995-12-22        1995.0\n",
       "4   1995-02-10        1995.0"
      ]
     },
     "execution_count": 9,
     "metadata": {},
     "output_type": "execute_result"
    }
   ],
   "source": [
    "# Mostrar las primeras filas para verificar los cambios\n",
    "movies_df[['release_date', 'release_year']].head()"
   ]
  },
  {
   "cell_type": "markdown",
   "metadata": {},
   "source": [
    "Ahora realizare la quinta transformación.  \n",
    "5. Crear la columna con el retorno de inversión, llamada return con los campos revenue y budget, dividiendo estas dos últimas revenue / budget, cuando no hay datos disponibles para calcularlo, deberá tomar el valor 0.  \n",
    "Para esto necesito que el tipo de dato de las columnas sean números, para ellos procederé a evaluar las columnas y de no ser de tipo numero las convertiré en este tipo de dato."
   ]
  },
  {
   "cell_type": "code",
   "execution_count": 10,
   "metadata": {},
   "outputs": [
    {
     "name": "stdout",
     "output_type": "stream",
     "text": [
      "object\n",
      "float64\n"
     ]
    }
   ],
   "source": [
    "# Verificar que tipo de dato contienen las columnas 'budget' y 'revenue'\n",
    "print(movies_df['budget'].dtype)\n",
    "print(movies_df['revenue'].dtype)"
   ]
  },
  {
   "cell_type": "markdown",
   "metadata": {},
   "source": [
    "Como la columna 'budget' es de tipo object, tengo que tratar a los  \n",
    "datos de esa columna diferente para normalizarlos como números,  \n",
    "procederé a aplicarles diversas funciones para pasar la mayor  \n",
    "cantidad de datos correctamente a tipo número."
   ]
  },
  {
   "cell_type": "markdown",
   "metadata": {},
   "source": [
    "Primero identificare las filas que contienen caracteres no numéricos \n",
    "para asegurarme de no borrar ningún valor que pudiese convertirse \n",
    "a numero como un ingreso con su símbolo de moneda al lado. \n",
    "Ejemplo: $5000000"
   ]
  },
  {
   "cell_type": "code",
   "execution_count": 11,
   "metadata": {},
   "outputs": [
    {
     "name": "stdout",
     "output_type": "stream",
     "text": [
      "19730    /ff9qCepilowshEtG2GYWwzt2bs4.jpg\n",
      "29503    /zV8bHuSL6WXoD6FWogP9j4x80bL.jpg\n",
      "35587    /zaSf5OG7V8X8gqFvly88zDdRm46.jpg\n",
      "Name: budget, dtype: object\n",
      "3\n"
     ]
    }
   ],
   "source": [
    "# Filtrar las filas donde los valores contienen caracteres no numéricos, excluyendo puntos decimales\n",
    "non_numeric_budget_values = movies_df[movies_df['budget'].str.contains(r'[^0-9.]', na=False)]\n",
    "\n",
    "# Obtener el recuento de los valores no numéricos en la columna 'budget'\n",
    "non_numeric_count = non_numeric_budget_values['budget'].count()\n",
    "\n",
    "# Mostrar los valores no numéricos en la columna 'budget'\n",
    "print(non_numeric_budget_values['budget'])\n",
    "\n",
    "# Mostrar el recuento\n",
    "print(non_numeric_count)\n"
   ]
  },
  {
   "cell_type": "markdown",
   "metadata": {},
   "source": [
    "Al revisar, solo encontré 3 filas que contenían valores no numéricos, \n",
    "por ende puedo proceder a convertir toda la columna a números \n",
    "y los no convertibles (estos 3 valores) se rellenaran como 0"
   ]
  },
  {
   "cell_type": "code",
   "execution_count": 12,
   "metadata": {},
   "outputs": [
    {
     "name": "stdout",
     "output_type": "stream",
     "text": [
      "0    30000000.0\n",
      "1    65000000.0\n",
      "2           0.0\n",
      "3    16000000.0\n",
      "4           0.0\n",
      "Name: budget, dtype: float64\n"
     ]
    }
   ],
   "source": [
    "# Convertir la columna 'budget' a numérico, reemplazando valores no convertibles por 0\n",
    "movies_df['budget'] = pd.to_numeric(movies_df['budget'], errors='coerce').fillna(0)\n",
    "\n",
    "# Verificar los primeros valores de la columna 'budget' después de la conversión\n",
    "print(movies_df['budget'].head())"
   ]
  },
  {
   "cell_type": "markdown",
   "metadata": {},
   "source": [
    "Ahora comprobare el tipo de dato del campo budget, para confirmar que se transformo al tipo de dato número."
   ]
  },
  {
   "cell_type": "code",
   "execution_count": 13,
   "metadata": {},
   "outputs": [
    {
     "name": "stdout",
     "output_type": "stream",
     "text": [
      "float64\n"
     ]
    }
   ],
   "source": [
    "print(movies_df['budget'].dtype)"
   ]
  },
  {
   "cell_type": "markdown",
   "metadata": {},
   "source": [
    "Ahora puedo crear el campo con el retorno de inversion, llamada 'return'"
   ]
  },
  {
   "cell_type": "code",
   "execution_count": 14,
   "metadata": {},
   "outputs": [
    {
     "name": "stdout",
     "output_type": "stream",
     "text": [
      "       budget      revenue     return\n",
      "0  30000000.0  373554033.0  12.451801\n",
      "1  65000000.0  262797249.0   4.043035\n",
      "2         0.0          0.0   0.000000\n",
      "3  16000000.0   81452156.0   5.090760\n",
      "4         0.0   76578911.0   0.000000\n"
     ]
    }
   ],
   "source": [
    "# Crear la columna 'return' calculando el retorno de inversión\n",
    "movies_df['return'] = movies_df.apply(\n",
    "    lambda x: x['revenue'] / x['budget'] if x['budget'] > 0 else 0, axis=1\n",
    ")\n",
    "\n",
    "# Verificar los primeros valores de la nueva columna 'return'\n",
    "print(movies_df[['budget', 'revenue', 'return']].head())"
   ]
  },
  {
   "cell_type": "markdown",
   "metadata": {},
   "source": [
    "Seguiré con las transformaciones requeridas.  \n",
    "6. Eliminar las columnas que no serán utilizadas, video,imdb_id,adult,original_title,poster_path y homepage."
   ]
  },
  {
   "cell_type": "code",
   "execution_count": 15,
   "metadata": {},
   "outputs": [
    {
     "data": {
      "text/plain": [
       "belongs_to_collection    40888\n",
       "budget                       0\n",
       "genres                       0\n",
       "id                           0\n",
       "original_language           11\n",
       "overview                   941\n",
       "popularity                   2\n",
       "production_companies         0\n",
       "production_countries         0\n",
       "release_date                 3\n",
       "revenue                      0\n",
       "runtime                    249\n",
       "spoken_languages             3\n",
       "status                      83\n",
       "tagline                  24981\n",
       "title                        3\n",
       "vote_average                 3\n",
       "vote_count                   3\n",
       "release_year                 3\n",
       "return                       0\n",
       "dtype: int64"
      ]
     },
     "execution_count": 15,
     "metadata": {},
     "output_type": "execute_result"
    }
   ],
   "source": [
    "# Eliminar las columnas especificadas que no serán utilizadas\n",
    "columns_to_drop = ['video', 'imdb_id', 'adult', 'original_title', 'poster_path', 'homepage']\n",
    "movies_df.drop(columns=columns_to_drop, inplace=True)\n",
    "# Mostrar la cantidad de valores nulos restantes por columna\n",
    "# Y asi verificar que las columnas fuesen eliminadas correctamente\n",
    "null_values = movies_df.isnull().sum()\n",
    "\n",
    "null_values"
   ]
  },
  {
   "cell_type": "markdown",
   "metadata": {},
   "source": [
    "Terminaré con la siguiente transformación.  \n",
    "1. Algunos campos, como belongs_to_collection, production_companies y otros (ver diccionario de datos) están anidados, esto es o bien tienen un diccionario o una lista como valores en cada fila,      ¡deberán desanidarlos para poder y unirlos al dataset de nuevo hacer alguna de las consultas de la API! O bien buscar la manera de acceder a esos datos sin desanidarlos."
   ]
  },
  {
   "cell_type": "code",
   "execution_count": 16,
   "metadata": {},
   "outputs": [
    {
     "data": {
      "text/plain": [
       "belongs_to_collection       40888\n",
       "budget                          0\n",
       "genres                          0\n",
       "id                              0\n",
       "original_language              11\n",
       "overview                      941\n",
       "popularity                      2\n",
       "production_companies            0\n",
       "production_countries            0\n",
       "release_date                    3\n",
       "revenue                         0\n",
       "runtime                       249\n",
       "spoken_languages                3\n",
       "status                         83\n",
       "tagline                     24981\n",
       "title                           3\n",
       "vote_average                    3\n",
       "vote_count                      3\n",
       "release_year                    3\n",
       "return                          0\n",
       "collection_id               40891\n",
       "collection_name             40891\n",
       "collection_poster_path      41434\n",
       "collection_backdrop_path    42119\n",
       "collection_0                45376\n",
       "dtype: int64"
      ]
     },
     "execution_count": 16,
     "metadata": {},
     "output_type": "execute_result"
    }
   ],
   "source": [
    "# Desanidar la columna 'belongs_to_collection'\n",
    "collection_df = movies_df['belongs_to_collection'].dropna().apply(eval).apply(pd.Series)\n",
    "\n",
    "# Asegurarse de que todos los nombres de columnas sean cadenas antes de renombrar\n",
    "collection_df.columns = ['collection_' + str(col) for col in collection_df.columns]\n",
    "\n",
    "# Unir el DataFrame desanidado con el original\n",
    "movies_df = movies_df.join(collection_df)\n",
    "\n",
    "# Verificar las nuevas columnas desanidadas\n",
    "null_values = movies_df.isnull().sum()\n",
    "\n",
    "null_values"
   ]
  },
  {
   "cell_type": "code",
   "execution_count": 17,
   "metadata": {},
   "outputs": [
    {
     "name": "stdout",
     "output_type": "stream",
     "text": [
      "0   NaN\n",
      "1   NaN\n",
      "2   NaN\n",
      "3   NaN\n",
      "4   NaN\n",
      "Name: collection_0, dtype: float64\n",
      "19730    0.065736\n",
      "29503    1.931659\n",
      "35587    2.185485\n",
      "Name: collection_0, dtype: float64\n"
     ]
    }
   ],
   "source": [
    "print(movies_df['collection_0'].head())\n",
    "filtered_df = movies_df[movies_df['collection_0'].notna()]\n",
    "print(filtered_df['collection_0'])"
   ]
  },
  {
   "cell_type": "code",
   "execution_count": 18,
   "metadata": {},
   "outputs": [],
   "source": [
    "columns_to_drop = ['collection_0', 'belongs_to_collection']\n",
    "movies_df.drop(columns=columns_to_drop, inplace=True)"
   ]
  },
  {
   "cell_type": "code",
   "execution_count": 19,
   "metadata": {},
   "outputs": [],
   "source": [
    "# Desanidar la columna 'genres'\n",
    "movies_df['genres'] = movies_df['genres'].apply(eval).apply(lambda x: ', '.join([d['name'] for d in x]))"
   ]
  },
  {
   "cell_type": "code",
   "execution_count": 20,
   "metadata": {},
   "outputs": [
    {
     "name": "stdout",
     "output_type": "stream",
     "text": [
      "0                              Pixar Animation Studios\n",
      "1    TriStar Pictures, Teitler Film, Interscope Com...\n",
      "2                         Warner Bros., Lancaster Gate\n",
      "3               Twentieth Century Fox Film Corporation\n",
      "4           Sandollar Productions, Touchstone Pictures\n",
      "Name: production_companies, dtype: object\n"
     ]
    }
   ],
   "source": [
    "# Intentar desanidar la columna 'production_companies' directamente\n",
    "movies_df['production_companies'] = movies_df['production_companies'].apply(\n",
    "    lambda x: ', '.join([d['name'] for d in ast.literal_eval(x)]) if isinstance(x, str) and x.startswith('[') else ''\n",
    ")\n",
    "\n",
    "# Verificar los primeros valores para asegurarnos de que se haya realizado correctamente\n",
    "print(movies_df['production_companies'].head())\n"
   ]
  },
  {
   "cell_type": "code",
   "execution_count": 21,
   "metadata": {},
   "outputs": [
    {
     "name": "stdout",
     "output_type": "stream",
     "text": [
      "0    United States of America\n",
      "1    United States of America\n",
      "2    United States of America\n",
      "3    United States of America\n",
      "4    United States of America\n",
      "Name: production_countries, dtype: object\n"
     ]
    }
   ],
   "source": [
    "# Desanidar la columna 'production_countries'\n",
    "movies_df['production_countries'] = movies_df['production_countries'].apply(\n",
    "    lambda x: ', '.join([d['name'] for d in ast.literal_eval(x)]) if isinstance(x, str) and x.startswith('[') else np.nan\n",
    ")\n",
    "\n",
    "# Verificar los primeros valores para asegurarnos de que se haya realizado correctamente\n",
    "print(movies_df['production_countries'].head())"
   ]
  },
  {
   "cell_type": "code",
   "execution_count": 22,
   "metadata": {},
   "outputs": [
    {
     "name": "stdout",
     "output_type": "stream",
     "text": [
      "0              English\n",
      "1    English, Français\n",
      "2              English\n",
      "3              English\n",
      "4              English\n",
      "Name: spoken_languages, dtype: object\n"
     ]
    }
   ],
   "source": [
    "# Desanidar la columna 'spoken_languages'\n",
    "movies_df['spoken_languages'] = movies_df['spoken_languages'].apply(\n",
    "    lambda x: ', '.join([d['name'] for d in ast.literal_eval(x)]) if isinstance(x, str) and x.startswith('[') else np.nan\n",
    ")\n",
    "\n",
    "# Verificar los primeros valores para asegurarnos de que se haya realizado correctamente\n",
    "print(movies_df['spoken_languages'].head())"
   ]
  },
  {
   "cell_type": "code",
   "execution_count": 23,
   "metadata": {},
   "outputs": [
    {
     "data": {
      "text/plain": [
       "budget                          0\n",
       "genres                          0\n",
       "id                              0\n",
       "original_language              11\n",
       "overview                      941\n",
       "popularity                      2\n",
       "production_companies            0\n",
       "production_countries            3\n",
       "release_date                    3\n",
       "revenue                         0\n",
       "runtime                       249\n",
       "spoken_languages                3\n",
       "status                         83\n",
       "tagline                     24981\n",
       "title                           3\n",
       "vote_average                    3\n",
       "vote_count                      3\n",
       "release_year                    3\n",
       "return                          0\n",
       "collection_id               40891\n",
       "collection_name             40891\n",
       "collection_poster_path      41434\n",
       "collection_backdrop_path    42119\n",
       "dtype: int64"
      ]
     },
     "execution_count": 23,
     "metadata": {},
     "output_type": "execute_result"
    }
   ],
   "source": [
    "null_values = movies_df.isnull().sum()\n",
    "\n",
    "null_values"
   ]
  },
  {
   "cell_type": "markdown",
   "metadata": {},
   "source": [
    "Archivo credits.csv  \n",
    "  \n",
    "Ya que el archivo presenta todos sus datos anidados, tendremos que hacer las siguientes transformaciones"
   ]
  },
  {
   "cell_type": "code",
   "execution_count": 24,
   "metadata": {},
   "outputs": [],
   "source": [
    "#Librerías necesarias\n",
    "import pandas as pd\n",
    "import ast"
   ]
  },
  {
   "cell_type": "code",
   "execution_count": 25,
   "metadata": {},
   "outputs": [
    {
     "name": "stdout",
     "output_type": "stream",
     "text": [
      "                                                    cast  \\\n",
      "0      [{'cast_id': 14, 'character': 'Woody (voice)',...   \n",
      "1      [{'cast_id': 1, 'character': 'Alan Parrish', '...   \n",
      "2      [{'cast_id': 2, 'character': 'Max Goldman', 'c...   \n",
      "3      [{'cast_id': 1, 'character': \"Savannah 'Vannah...   \n",
      "4      [{'cast_id': 1, 'character': 'George Banks', '...   \n",
      "...                                                  ...   \n",
      "45471  [{'cast_id': 0, 'character': '', 'credit_id': ...   \n",
      "45472  [{'cast_id': 1002, 'character': 'Sister Angela...   \n",
      "45473  [{'cast_id': 6, 'character': 'Emily Shaw', 'cr...   \n",
      "45474  [{'cast_id': 2, 'character': '', 'credit_id': ...   \n",
      "45475                                                 []   \n",
      "\n",
      "                                                    crew      id  \n",
      "0      [{'credit_id': '52fe4284c3a36847f8024f49', 'de...     862  \n",
      "1      [{'credit_id': '52fe44bfc3a36847f80a7cd1', 'de...    8844  \n",
      "2      [{'credit_id': '52fe466a9251416c75077a89', 'de...   15602  \n",
      "3      [{'credit_id': '52fe44779251416c91011acb', 'de...   31357  \n",
      "4      [{'credit_id': '52fe44959251416c75039ed7', 'de...   11862  \n",
      "...                                                  ...     ...  \n",
      "45471  [{'credit_id': '5894a97d925141426c00818c', 'de...  439050  \n",
      "45472  [{'credit_id': '52fe4af1c3a36847f81e9b15', 'de...  111109  \n",
      "45473  [{'credit_id': '52fe4776c3a368484e0c8387', 'de...   67758  \n",
      "45474  [{'credit_id': '533bccebc3a36844cf0011a7', 'de...  227506  \n",
      "45475  [{'credit_id': '593e676c92514105b702e68e', 'de...  461257  \n",
      "\n",
      "[45476 rows x 3 columns]\n"
     ]
    }
   ],
   "source": [
    "# Leer el archivo CSV\n",
    "credits_df = pd.read_csv('credits.csv')\n",
    "print(credits_df)"
   ]
  },
  {
   "cell_type": "code",
   "execution_count": 26,
   "metadata": {},
   "outputs": [],
   "source": [
    "# Eliminar las últimas 42,000 filas\n",
    "credits_df = credits_df.iloc[:-42000]"
   ]
  },
  {
   "cell_type": "code",
   "execution_count": 27,
   "metadata": {},
   "outputs": [],
   "source": [
    "# Desanidar la columna 'cast'\n",
    "credits_df['cast'] = credits_df['cast'].apply(ast.literal_eval)\n",
    "\n",
    "# Desanidar la columna 'crew'\n",
    "credits_df['crew'] = credits_df['crew'].apply(ast.literal_eval)"
   ]
  },
  {
   "cell_type": "code",
   "execution_count": 28,
   "metadata": {},
   "outputs": [],
   "source": [
    "# Expandir los diccionarios anidados en la columna 'cast'\n",
    "cast_df = credits_df.explode('cast').reset_index(drop=True)\n",
    "cast_df = pd.json_normalize(cast_df['cast'])\n",
    "\n",
    "# Expandir los diccionarios anidados en la columna 'crew'\n",
    "crew_df = credits_df.explode('crew').reset_index(drop=True)\n",
    "crew_df = pd.json_normalize(crew_df['crew'])"
   ]
  },
  {
   "cell_type": "code",
   "execution_count": 29,
   "metadata": {},
   "outputs": [],
   "source": [
    "# Agregar la columna 'id' correspondiente al DataFrame 'cast'\n",
    "cast_df['id'] = credits_df['id'].repeat(credits_df['cast'].apply(len)).reset_index(drop=True)\n",
    "\n",
    "# Agregar la columna 'id' correspondiente al DataFrame 'crew'\n",
    "crew_df['id'] = credits_df['id'].repeat(credits_df['crew'].apply(len)).reset_index(drop=True)"
   ]
  },
  {
   "cell_type": "code",
   "execution_count": 30,
   "metadata": {},
   "outputs": [
    {
     "name": "stdout",
     "output_type": "stream",
     "text": [
      "       cast_id                character                 credit_id  gender  \\\n",
      "0         14.0            Woody (voice)  52fe4284c3a36847f8024f95     2.0   \n",
      "1         15.0   Buzz Lightyear (voice)  52fe4284c3a36847f8024f99     2.0   \n",
      "2         16.0  Mr. Potato Head (voice)  52fe4284c3a36847f8024f9d     2.0   \n",
      "3         17.0       Slinky Dog (voice)  52fe4284c3a36847f8024fa1     2.0   \n",
      "4         18.0              Rex (voice)  52fe4284c3a36847f8024fa5     2.0   \n",
      "...        ...                      ...                       ...     ...   \n",
      "60434      7.0                     Eric  57e710b2c3a368352500a95a     0.0   \n",
      "60435      8.0                      Liz  57e710bac3a368220e00a606     1.0   \n",
      "60436      9.0                    Marie  57e710cf925141390b00ae2c     1.0   \n",
      "60437     10.0                  Bristol  57e710da925141390b00ae31     0.0   \n",
      "60438     11.0              'Plan' Girl  57e710f2925141395b00ac15     1.0   \n",
      "\n",
      "          id              name  order                      profile_path  \n",
      "0      862.0         Tom Hanks    0.0  /pQFoyx7rp09CJTAb932F2g8Nlho.jpg  \n",
      "1      862.0         Tim Allen    1.0  /uX2xVf6pMmPepxnvFWyBtjexzgY.jpg  \n",
      "2      862.0       Don Rickles    2.0  /h5BcaDMPRVLHLDzbQavec4xfSdt.jpg  \n",
      "3      862.0        Jim Varney    3.0  /eIo2jVVXYgjDtaHoF19Ll9vtW7h.jpg  \n",
      "4      862.0     Wallace Shawn    4.0  /oGE6JqPP2xH4tNORKNqxbNPYi7u.jpg  \n",
      "...      ...               ...    ...                               ...  \n",
      "60434    NaN       Judah Domke    4.0                              None  \n",
      "60435    NaN     Callie Thorne    5.0  /sTbZc9R8fKHPXDPQXMBdV2xz9C9.jpg  \n",
      "60436    NaN  Bridget Moynahan    6.0  /sNdD2Cos4aecowtWPpd0hcM8izY.jpg  \n",
      "60437    NaN        Taryn Reif    7.0                              None  \n",
      "60438    NaN      Neriah Davis    8.0  /kw8QnfRZu1nPIl52GelfSGdXHaZ.jpg  \n",
      "\n",
      "[60439 rows x 8 columns]\n"
     ]
    }
   ],
   "source": [
    "#Vista previa para verificar que los datos estén desanidados\n",
    "print(cast_df)"
   ]
  },
  {
   "cell_type": "code",
   "execution_count": 31,
   "metadata": {},
   "outputs": [
    {
     "name": "stdout",
     "output_type": "stream",
     "text": [
      "    cast_id                       character                 credit_id  gender  \\\n",
      "10     24.0                Sergeant (voice)  52fe4284c3a36847f8024fb9     2.0   \n",
      "11     25.0                  Hannah (voice)  52fe4284c3a36847f8024fbd     1.0   \n",
      "12     27.0            TV Announcer (voice)  52fe4284c3a36847f8024fc5     2.0   \n",
      "13      1.0                    Alan Parrish  52fe44bfc3a36847f80a7c73     2.0   \n",
      "14      8.0  Samuel Alan Parrish / Van Pelt  52fe44bfc3a36847f80a7c99     2.0   \n",
      "\n",
      "        id            name  order                      profile_path  \n",
      "10   862.0    R. Lee Ermey   10.0  /r8GBqFBjypLUP9VVqDqfZ7wYbSs.jpg  \n",
      "11   862.0   Sarah Freeman   11.0                              None  \n",
      "12   862.0   Penn Jillette   12.0  /zmAaXUdx12NRsssgHbk1T31j2x9.jpg  \n",
      "13  8844.0  Robin Williams    0.0  /sojtJyIV3lkUeThD7A2oHNm8183.jpg  \n",
      "14  8844.0   Jonathan Hyde    1.0  /7il5D76vx6QVRVlpVvBPEC40MBi.jpg  \n"
     ]
    }
   ],
   "source": [
    "#Verificar que desanida los datos correctamente de la fila 2 de los datos originales\n",
    "print(cast_df.iloc[10:15])"
   ]
  }
 ],
 "metadata": {
  "kernelspec": {
   "display_name": "Python 3",
   "language": "python",
   "name": "python3"
  },
  "language_info": {
   "codemirror_mode": {
    "name": "ipython",
    "version": 3
   },
   "file_extension": ".py",
   "mimetype": "text/x-python",
   "name": "python",
   "nbconvert_exporter": "python",
   "pygments_lexer": "ipython3",
   "version": "3.12.2"
  }
 },
 "nbformat": 4,
 "nbformat_minor": 2
}
